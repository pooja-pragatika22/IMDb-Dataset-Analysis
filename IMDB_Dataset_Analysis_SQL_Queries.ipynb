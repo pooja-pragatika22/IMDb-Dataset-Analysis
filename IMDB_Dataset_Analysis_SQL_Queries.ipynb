{
 "cells": [
  {
   "cell_type": "markdown",
   "id": "10f62ea5-f708-4dc7-a55a-3b7c29b7f45e",
   "metadata": {},
   "source": [
    "# IMDB Movie Dataset Analysis using SQL\n",
    "\n",
    "This project analyzes the IMDB movie dataset using SQL embedded in Python (via `sqlite3` or similar). It extracts insights about:\n",
    "- Popular genres, directors, actors\n",
    "- Movie production trends\n",
    "- Ratings and revenue analysis\n",
    "\n",
    "The goal is to turn raw SQL output into interpretable business insights.\n",
    "\n"
   ]
  },
  {
   "cell_type": "markdown",
   "id": "9bc34f98-6e5c-42c0-b9a5-b68793911f47",
   "metadata": {},
   "source": [
    "## Objectives\n",
    "\n",
    "- Connect and query the IMDB SQLite database using SQL in Python.\n",
    "- Explore dataset tables: `movies`, `directors`, `ratings`, `genres`, etc.\n",
    "- Perform analytical queries to find top movies, directors, ratings distribution, genre analysis, etc.\n",
    "- Visualize insights using plots (bar charts, pie charts, histograms).\n",
    "- Derive conclusions and suggest future enhancements.\n"
   ]
  },
  {
   "cell_type": "markdown",
   "id": "04faa84e-fa12-47ba-8510-81bf7906a286",
   "metadata": {},
   "source": [
    "## Import Libraries"
   ]
  },
  {
   "cell_type": "code",
   "execution_count": 4,
   "id": "d6f0db81-c7e4-4382-af21-dff143795873",
   "metadata": {},
   "outputs": [],
   "source": [
    "#To perform mathematical operations\n",
    "import numpy as np \n",
    "#Data Manipulation tool\n",
    "import pandas as pd \n",
    "#Data Visualization tool\n",
    "import matplotlib.pyplot as plt \n",
    "import seaborn as sns \n",
    "#Server-less Database\n",
    "import sqlite3 as sq "
   ]
  },
  {
   "cell_type": "markdown",
   "id": "4212be0e-274a-45f3-9663-efbdfe250130",
   "metadata": {},
   "source": [
    "## Hints and Workflow\n",
    "\n",
    "### Hints:\n",
    "1. Connect to database → `sqlite3.connect(database)`\n",
    "2. Use cursor object → `connection.cursor()`\n",
    "3. Execute SQL queries → `cursor.execute(\"SQL_QUERY\")`\n",
    "4. Fetch results → `cursor.fetchall()`\n",
    "\n",
    "### Workflow Steps:\n",
    "1. Establish connection to SQLite DB\n",
    "2. Create cursor object\n",
    "3. Execute queries\n",
    "4. Store and convert results to DataFrames for analysis\n"
   ]
  },
  {
   "cell_type": "code",
   "execution_count": 6,
   "id": "543c5a4e-ffbf-44e5-a3b0-4e97c289c3ab",
   "metadata": {},
   "outputs": [],
   "source": [
    "#Connect to SQLite database\n",
    "db=r\"C:\\Users\\MUSKAN\\Desktop\\DataScience Projects\\IMDB Dataset analysis\\archive\\movies.sqlite\"\n",
    "conn=sq.connect(db)\n",
    "curr=conn.cursor()"
   ]
  },
  {
   "cell_type": "markdown",
   "id": "8c450d72-e98a-4492-8a31-86b7af58cf2f",
   "metadata": {},
   "source": [
    "## Database Schema Overview\n",
    "Let's understand the structure of tables and relationships in the IMDB dataset."
   ]
  },
  {
   "cell_type": "markdown",
   "id": "ee5c848f-2b63-4a70-ae3e-3144be25366f",
   "metadata": {},
   "source": [
    "### Query 1: List all tables available in the database"
   ]
  },
  {
   "cell_type": "code",
   "execution_count": 9,
   "id": "aea8e3a7-90b9-4b67-ad8a-fe068cfe3cad",
   "metadata": {},
   "outputs": [
    {
     "name": "stdout",
     "output_type": "stream",
     "text": [
      "[('movies',), ('sqlite_sequence',), ('directors',)]\n"
     ]
    }
   ],
   "source": [
    "curr.execute(\"SELECT name FROM sqlite_master WHERE type='table';\")\n",
    "print(curr.fetchall())"
   ]
  },
  {
   "cell_type": "markdown",
   "id": "8bed1898-f277-4bb1-ae2f-3ae70411422e",
   "metadata": {},
   "source": [
    "### **Observation:**  \n",
    "The database contains multiple tables such as `movies`, `directors`, etc., which will be explored using SQL queries.\n"
   ]
  },
  {
   "cell_type": "markdown",
   "id": "0f5a00e5-7ab9-49ba-a2a5-8ccaed084c70",
   "metadata": {},
   "source": [
    "### Query 2: Table Structure & Sample Data"
   ]
  },
  {
   "cell_type": "markdown",
   "id": "3786c7d8-6d23-4628-88e0-2894298acebe",
   "metadata": {},
   "source": [
    "### For movies table:"
   ]
  },
  {
   "cell_type": "code",
   "execution_count": 13,
   "id": "0bd434cd-8127-4f7f-ac97-fc50b5112776",
   "metadata": {},
   "outputs": [
    {
     "name": "stdout",
     "output_type": "stream",
     "text": [
      "Movies Table Structure:\n",
      "(0, 'id', 'INTEGER', 0, None, 1)\n",
      "(1, 'original_title', 'VARCHAR', 0, None, 0)\n",
      "(2, 'budget', 'INTEGER', 0, None, 0)\n",
      "(3, 'popularity', 'INTEGER', 0, None, 0)\n",
      "(4, 'release_date', 'TEXT', 0, None, 0)\n",
      "(5, 'revenue', 'INTEGER', 0, None, 0)\n",
      "(6, 'title', 'TEXT', 0, None, 0)\n",
      "(7, 'vote_average', 'REAL', 0, None, 0)\n",
      "(8, 'vote_count', 'INTEGER', 0, None, 0)\n",
      "(9, 'overview', 'TEXT', 0, None, 0)\n",
      "(10, 'tagline', 'TEXT', 0, None, 0)\n",
      "(11, 'uid', 'INTEGER', 0, None, 0)\n",
      "(12, 'director_id', 'INTEGER', 1, '0', 0)\n",
      "\n",
      "Sample rows from 'movies' table:\n",
      "(43597, 'Avatar', 237000000, 150, '2009-12-10', 2787965087, 'Avatar', 7.2, 11800, 'In the 22nd century, a paraplegic Marine is dispatched to the moon Pandora on a unique mission, but becomes torn between following orders and protecting an alien civilization.', 'Enter the World of Pandora.', 19995, 4762)\n",
      "(43598, \"Pirates of the Caribbean: At World's End\", 300000000, 139, '2007-05-19', 961000000, \"Pirates of the Caribbean: At World's End\", 6.9, 4500, 'Captain Barbossa, long believed to be dead, has come back to life and is headed to the edge of the Earth with Will Turner and Elizabeth Swann. But nothing is quite as it seems.', 'At the end of the world, the adventure begins.', 285, 4763)\n",
      "(43599, 'Spectre', 245000000, 107, '2015-10-26', 880674609, 'Spectre', 6.3, 4466, 'A cryptic message from Bond’s past sends him on a trail to uncover a sinister organization. While M battles political forces to keep the secret service alive, Bond peels back the layers of deceit to reveal the terrible truth behind SPECTRE.', 'A Plan No One Escapes', 206647, 4764)\n",
      "(43600, 'The Dark Knight Rises', 250000000, 112, '2012-07-16', 1084939099, 'The Dark Knight Rises', 7.6, 9106, \"Following the death of District Attorney Harvey Dent, Batman assumes responsibility for Dent's crimes to protect the late attorney's reputation and is subsequently hunted by the Gotham City Police Department. Eight years later, Batman encounters the mysterious Selina Kyle and the villainous Bane, a new terrorist leader who overwhelms Gotham's finest. The Dark Knight resurfaces to protect a city that has branded him an enemy.\", 'The Legend Ends', 49026, 4765)\n",
      "(43601, 'John Carter', 260000000, 43, '2012-03-07', 284139100, 'John Carter', 6.1, 2124, \"John Carter is a war-weary, former military captain who's inexplicably transported to the mysterious and exotic planet of Barsoom (Mars) and reluctantly becomes embroiled in an epic conflict. It's a world on the brink of collapse, and Carter rediscovers his humanity when he realizes the survival of Barsoom and its people rests in his hands.\", 'Lost in our world, found in another.', 49529, 4766)\n"
     ]
    }
   ],
   "source": [
    "print(\"Movies Table Structure:\")\n",
    "curr.execute(\"PRAGMA table_info(movies);\")\n",
    "for row in curr.fetchall():\n",
    "    print(row)\n",
    "\n",
    "print(\"\\nSample rows from 'movies' table:\")\n",
    "curr.execute(\"SELECT * FROM movies LIMIT 5;\")\n",
    "for row in curr.fetchall():\n",
    "    print(row)\n"
   ]
  },
  {
   "cell_type": "markdown",
   "id": "7246b96d-522e-4c32-9a0d-c6f5d893dfbb",
   "metadata": {},
   "source": [
    "### Observation:\n",
    "- `movies` table has rich metadata useful for various types of analysis.\n",
    "- Fields like `budget`, `revenue`, and `vote_average` support financial and popularity insights.\n",
    "\n"
   ]
  },
  {
   "cell_type": "markdown",
   "id": "11addc34-1e98-4a5f-88b0-1cd8a7fd643e",
   "metadata": {},
   "source": [
    "### For directors table"
   ]
  },
  {
   "cell_type": "code",
   "execution_count": 16,
   "id": "86c5de64-bac2-4ac6-85af-fce9309fbcb9",
   "metadata": {},
   "outputs": [
    {
     "name": "stdout",
     "output_type": "stream",
     "text": [
      "Directors Table Structure:\n",
      "(0, 'name', 'TEXT', 0, None, 0)\n",
      "(1, 'id', 'INTEGER', 0, None, 1)\n",
      "(2, 'gender', 'INTEGER', 0, None, 0)\n",
      "(3, 'uid', 'INTEGER', 0, None, 0)\n",
      "(4, 'department', 'TEXT', 0, None, 0)\n",
      "\n",
      "Sample rows from 'directors' table:\n",
      "('James Cameron', 4762, 2, 2710, 'Directing')\n",
      "('Gore Verbinski', 4763, 2, 1704, 'Directing')\n",
      "('Sam Mendes', 4764, 2, 39, 'Directing')\n",
      "('Christopher Nolan', 4765, 2, 525, 'Directing')\n",
      "('Andrew Stanton', 4766, 2, 7, 'Directing')\n"
     ]
    }
   ],
   "source": [
    "print(\"Directors Table Structure:\")\n",
    "curr.execute(\"PRAGMA table_info(directors);\")\n",
    "for row in curr.fetchall():\n",
    "    print(row)\n",
    "\n",
    "print(\"\\nSample rows from 'directors' table:\")\n",
    "curr.execute(\"SELECT * FROM directors LIMIT 5;\")\n",
    "for row in curr.fetchall():\n",
    "    print(row)"
   ]
  },
  {
   "cell_type": "markdown",
   "id": "d33b112c-092d-4889-b8b5-b9c970310851",
   "metadata": {},
   "source": [
    "### Observation:\n",
    "The `directors` table has details like name, ID, gender, and department.  \n",
    "All entries are from the 'Directing' department, and popular directors like James Cameron and Christopher Nolan are included.\n"
   ]
  },
  {
   "cell_type": "markdown",
   "id": "b3eb7ac2-cd3a-4489-ae0e-d6b70bac7531",
   "metadata": {},
   "source": [
    "### Query 3: Get all records from the movies table"
   ]
  },
  {
   "cell_type": "code",
   "execution_count": 19,
   "id": "b8590c0a-0069-47a9-9f0f-c7136d836380",
   "metadata": {},
   "outputs": [],
   "source": [
    "curr.execute(\"SELECT * FROM movies\")\n",
    "movies=curr.fetchall()"
   ]
  },
  {
   "cell_type": "code",
   "execution_count": 20,
   "id": "acd80577-7d11-43fa-ac09-cf6bef98fa16",
   "metadata": {},
   "outputs": [
    {
     "data": {
      "text/html": [
       "<div>\n",
       "<style scoped>\n",
       "    .dataframe tbody tr th:only-of-type {\n",
       "        vertical-align: middle;\n",
       "    }\n",
       "\n",
       "    .dataframe tbody tr th {\n",
       "        vertical-align: top;\n",
       "    }\n",
       "\n",
       "    .dataframe thead th {\n",
       "        text-align: right;\n",
       "    }\n",
       "</style>\n",
       "<table border=\"1\" class=\"dataframe\">\n",
       "  <thead>\n",
       "    <tr style=\"text-align: right;\">\n",
       "      <th></th>\n",
       "      <th>id</th>\n",
       "      <th>original_title</th>\n",
       "      <th>budget</th>\n",
       "      <th>popularity</th>\n",
       "      <th>release_date</th>\n",
       "      <th>revenue</th>\n",
       "      <th>title</th>\n",
       "      <th>avg_rating</th>\n",
       "      <th>rating_count</th>\n",
       "      <th>overview</th>\n",
       "      <th>tagline</th>\n",
       "      <th>uid</th>\n",
       "      <th>director_id</th>\n",
       "    </tr>\n",
       "  </thead>\n",
       "  <tbody>\n",
       "    <tr>\n",
       "      <th>0</th>\n",
       "      <td>43597</td>\n",
       "      <td>Avatar</td>\n",
       "      <td>237000000</td>\n",
       "      <td>150</td>\n",
       "      <td>2009-12-10</td>\n",
       "      <td>2787965087</td>\n",
       "      <td>Avatar</td>\n",
       "      <td>7.2</td>\n",
       "      <td>11800</td>\n",
       "      <td>In the 22nd century, a paraplegic Marine is di...</td>\n",
       "      <td>Enter the World of Pandora.</td>\n",
       "      <td>19995</td>\n",
       "      <td>4762</td>\n",
       "    </tr>\n",
       "    <tr>\n",
       "      <th>1</th>\n",
       "      <td>43598</td>\n",
       "      <td>Pirates of the Caribbean: At World's End</td>\n",
       "      <td>300000000</td>\n",
       "      <td>139</td>\n",
       "      <td>2007-05-19</td>\n",
       "      <td>961000000</td>\n",
       "      <td>Pirates of the Caribbean: At World's End</td>\n",
       "      <td>6.9</td>\n",
       "      <td>4500</td>\n",
       "      <td>Captain Barbossa, long believed to be dead, ha...</td>\n",
       "      <td>At the end of the world, the adventure begins.</td>\n",
       "      <td>285</td>\n",
       "      <td>4763</td>\n",
       "    </tr>\n",
       "    <tr>\n",
       "      <th>2</th>\n",
       "      <td>43599</td>\n",
       "      <td>Spectre</td>\n",
       "      <td>245000000</td>\n",
       "      <td>107</td>\n",
       "      <td>2015-10-26</td>\n",
       "      <td>880674609</td>\n",
       "      <td>Spectre</td>\n",
       "      <td>6.3</td>\n",
       "      <td>4466</td>\n",
       "      <td>A cryptic message from Bond’s past sends him o...</td>\n",
       "      <td>A Plan No One Escapes</td>\n",
       "      <td>206647</td>\n",
       "      <td>4764</td>\n",
       "    </tr>\n",
       "    <tr>\n",
       "      <th>3</th>\n",
       "      <td>43600</td>\n",
       "      <td>The Dark Knight Rises</td>\n",
       "      <td>250000000</td>\n",
       "      <td>112</td>\n",
       "      <td>2012-07-16</td>\n",
       "      <td>1084939099</td>\n",
       "      <td>The Dark Knight Rises</td>\n",
       "      <td>7.6</td>\n",
       "      <td>9106</td>\n",
       "      <td>Following the death of District Attorney Harve...</td>\n",
       "      <td>The Legend Ends</td>\n",
       "      <td>49026</td>\n",
       "      <td>4765</td>\n",
       "    </tr>\n",
       "    <tr>\n",
       "      <th>4</th>\n",
       "      <td>43601</td>\n",
       "      <td>John Carter</td>\n",
       "      <td>260000000</td>\n",
       "      <td>43</td>\n",
       "      <td>2012-03-07</td>\n",
       "      <td>284139100</td>\n",
       "      <td>John Carter</td>\n",
       "      <td>6.1</td>\n",
       "      <td>2124</td>\n",
       "      <td>John Carter is a war-weary, former military ca...</td>\n",
       "      <td>Lost in our world, found in another.</td>\n",
       "      <td>49529</td>\n",
       "      <td>4766</td>\n",
       "    </tr>\n",
       "  </tbody>\n",
       "</table>\n",
       "</div>"
      ],
      "text/plain": [
       "      id                            original_title     budget  popularity  \\\n",
       "0  43597                                    Avatar  237000000         150   \n",
       "1  43598  Pirates of the Caribbean: At World's End  300000000         139   \n",
       "2  43599                                   Spectre  245000000         107   \n",
       "3  43600                     The Dark Knight Rises  250000000         112   \n",
       "4  43601                               John Carter  260000000          43   \n",
       "\n",
       "  release_date     revenue                                     title  \\\n",
       "0   2009-12-10  2787965087                                    Avatar   \n",
       "1   2007-05-19   961000000  Pirates of the Caribbean: At World's End   \n",
       "2   2015-10-26   880674609                                   Spectre   \n",
       "3   2012-07-16  1084939099                     The Dark Knight Rises   \n",
       "4   2012-03-07   284139100                               John Carter   \n",
       "\n",
       "   avg_rating  rating_count  \\\n",
       "0         7.2         11800   \n",
       "1         6.9          4500   \n",
       "2         6.3          4466   \n",
       "3         7.6          9106   \n",
       "4         6.1          2124   \n",
       "\n",
       "                                            overview  \\\n",
       "0  In the 22nd century, a paraplegic Marine is di...   \n",
       "1  Captain Barbossa, long believed to be dead, ha...   \n",
       "2  A cryptic message from Bond’s past sends him o...   \n",
       "3  Following the death of District Attorney Harve...   \n",
       "4  John Carter is a war-weary, former military ca...   \n",
       "\n",
       "                                          tagline     uid  director_id  \n",
       "0                     Enter the World of Pandora.   19995         4762  \n",
       "1  At the end of the world, the adventure begins.     285         4763  \n",
       "2                           A Plan No One Escapes  206647         4764  \n",
       "3                                 The Legend Ends   49026         4765  \n",
       "4            Lost in our world, found in another.   49529         4766  "
      ]
     },
     "execution_count": 20,
     "metadata": {},
     "output_type": "execute_result"
    }
   ],
   "source": [
    "#Convert the output of the above to Dataframe :row and column\n",
    "df=pd.DataFrame(movies,columns=['id','original_title','budget','popularity','release_date','revenue',\n",
    "                                'title','avg_rating','rating_count','overview','tagline',\n",
    "                                'uid','director_id'])\n",
    "df.head()"
   ]
  },
  {
   "cell_type": "code",
   "execution_count": 21,
   "id": "206eeafc-88ed-420a-9b52-e737942c8234",
   "metadata": {},
   "outputs": [
    {
     "data": {
      "text/plain": [
       "<bound method DataFrame.info of          id                            original_title     budget  popularity  \\\n",
       "0     43597                                    Avatar  237000000         150   \n",
       "1     43598  Pirates of the Caribbean: At World's End  300000000         139   \n",
       "2     43599                                   Spectre  245000000         107   \n",
       "3     43600                     The Dark Knight Rises  250000000         112   \n",
       "4     43601                               John Carter  260000000          43   \n",
       "...     ...                                       ...        ...         ...   \n",
       "4768  48395                               El Mariachi     220000          14   \n",
       "4769  48396                                 Newlyweds       9000           0   \n",
       "4770  48397                 Signed, Sealed, Delivered          0           1   \n",
       "4771  48398                          Shanghai Calling          0           0   \n",
       "4772  48399                         My Date with Drew          0           1   \n",
       "\n",
       "     release_date     revenue                                     title  \\\n",
       "0      2009-12-10  2787965087                                    Avatar   \n",
       "1      2007-05-19   961000000  Pirates of the Caribbean: At World's End   \n",
       "2      2015-10-26   880674609                                   Spectre   \n",
       "3      2012-07-16  1084939099                     The Dark Knight Rises   \n",
       "4      2012-03-07   284139100                               John Carter   \n",
       "...           ...         ...                                       ...   \n",
       "4768   1992-09-04     2040920                               El Mariachi   \n",
       "4769   2011-12-26           0                                 Newlyweds   \n",
       "4770   2013-10-13           0                 Signed, Sealed, Delivered   \n",
       "4771   2012-05-03           0                          Shanghai Calling   \n",
       "4772   2005-08-05           0                         My Date with Drew   \n",
       "\n",
       "      avg_rating  rating_count  \\\n",
       "0            7.2         11800   \n",
       "1            6.9          4500   \n",
       "2            6.3          4466   \n",
       "3            7.6          9106   \n",
       "4            6.1          2124   \n",
       "...          ...           ...   \n",
       "4768         6.6           238   \n",
       "4769         5.9             5   \n",
       "4770         7.0             6   \n",
       "4771         5.7             7   \n",
       "4772         6.3            16   \n",
       "\n",
       "                                               overview  \\\n",
       "0     In the 22nd century, a paraplegic Marine is di...   \n",
       "1     Captain Barbossa, long believed to be dead, ha...   \n",
       "2     A cryptic message from Bond’s past sends him o...   \n",
       "3     Following the death of District Attorney Harve...   \n",
       "4     John Carter is a war-weary, former military ca...   \n",
       "...                                                 ...   \n",
       "4768  El Mariachi just wants to play his guitar and ...   \n",
       "4769  A newlywed couple's honeymoon is upended by th...   \n",
       "4770  \"Signed, Sealed, Delivered\" introduces a dedic...   \n",
       "4771  When ambitious New York attorney Sam is sent t...   \n",
       "4772  Ever since the second grade when he first saw ...   \n",
       "\n",
       "                                                tagline     uid  director_id  \n",
       "0                           Enter the World of Pandora.   19995         4762  \n",
       "1        At the end of the world, the adventure begins.     285         4763  \n",
       "2                                 A Plan No One Escapes  206647         4764  \n",
       "3                                       The Legend Ends   49026         4765  \n",
       "4                  Lost in our world, found in another.   49529         4766  \n",
       "...                                                 ...     ...          ...  \n",
       "4768  He didn't come looking for trouble, but troubl...    9367         5097  \n",
       "4769  A newlywed couple's honeymoon is upended by th...   72766         6485  \n",
       "4770                                               None  231617         7108  \n",
       "4771                           A New Yorker in Shanghai  126186         7109  \n",
       "4772                                               None   25975         7110  \n",
       "\n",
       "[4773 rows x 13 columns]>"
      ]
     },
     "execution_count": 21,
     "metadata": {},
     "output_type": "execute_result"
    }
   ],
   "source": [
    "# Basic Info:\n",
    "df.info"
   ]
  },
  {
   "cell_type": "markdown",
   "id": "1d4fc11a-7f40-4c97-b8a6-cd5a0c31858f",
   "metadata": {},
   "source": [
    "### **Observation:**  \n",
    "The dataset has 13 columns and thousands of records. Fields like `avg_rating`, `budget`, and `release_date` will help in our analysis.\n"
   ]
  },
  {
   "cell_type": "markdown",
   "id": "caa66c85-7330-4dbc-bd22-57b7dc14e53f",
   "metadata": {},
   "source": [
    "### Query 4: Get all directors"
   ]
  },
  {
   "cell_type": "code",
   "execution_count": 24,
   "id": "03d06d0f-af40-4de7-88af-b4c7dab3e323",
   "metadata": {},
   "outputs": [
    {
     "data": {
      "text/html": [
       "<div>\n",
       "<style scoped>\n",
       "    .dataframe tbody tr th:only-of-type {\n",
       "        vertical-align: middle;\n",
       "    }\n",
       "\n",
       "    .dataframe tbody tr th {\n",
       "        vertical-align: top;\n",
       "    }\n",
       "\n",
       "    .dataframe thead th {\n",
       "        text-align: right;\n",
       "    }\n",
       "</style>\n",
       "<table border=\"1\" class=\"dataframe\">\n",
       "  <thead>\n",
       "    <tr style=\"text-align: right;\">\n",
       "      <th></th>\n",
       "      <th>Name</th>\n",
       "      <th>id</th>\n",
       "      <th>gender</th>\n",
       "      <th>UID</th>\n",
       "      <th>department</th>\n",
       "    </tr>\n",
       "  </thead>\n",
       "  <tbody>\n",
       "    <tr>\n",
       "      <th>0</th>\n",
       "      <td>James Cameron</td>\n",
       "      <td>4762</td>\n",
       "      <td>2</td>\n",
       "      <td>2710</td>\n",
       "      <td>Directing</td>\n",
       "    </tr>\n",
       "    <tr>\n",
       "      <th>1</th>\n",
       "      <td>Gore Verbinski</td>\n",
       "      <td>4763</td>\n",
       "      <td>2</td>\n",
       "      <td>1704</td>\n",
       "      <td>Directing</td>\n",
       "    </tr>\n",
       "    <tr>\n",
       "      <th>2</th>\n",
       "      <td>Sam Mendes</td>\n",
       "      <td>4764</td>\n",
       "      <td>2</td>\n",
       "      <td>39</td>\n",
       "      <td>Directing</td>\n",
       "    </tr>\n",
       "    <tr>\n",
       "      <th>3</th>\n",
       "      <td>Christopher Nolan</td>\n",
       "      <td>4765</td>\n",
       "      <td>2</td>\n",
       "      <td>525</td>\n",
       "      <td>Directing</td>\n",
       "    </tr>\n",
       "    <tr>\n",
       "      <th>4</th>\n",
       "      <td>Andrew Stanton</td>\n",
       "      <td>4766</td>\n",
       "      <td>2</td>\n",
       "      <td>7</td>\n",
       "      <td>Directing</td>\n",
       "    </tr>\n",
       "  </tbody>\n",
       "</table>\n",
       "</div>"
      ],
      "text/plain": [
       "                Name    id  gender   UID department\n",
       "0      James Cameron  4762       2  2710  Directing\n",
       "1     Gore Verbinski  4763       2  1704  Directing\n",
       "2         Sam Mendes  4764       2    39  Directing\n",
       "3  Christopher Nolan  4765       2   525  Directing\n",
       "4     Andrew Stanton  4766       2     7  Directing"
      ]
     },
     "execution_count": 24,
     "metadata": {},
     "output_type": "execute_result"
    }
   ],
   "source": [
    "curr.execute(\"SELECT * FROM directors\")\n",
    "directors=curr.fetchall()\n",
    "df_directors=pd.DataFrame(directors,columns=[\"Name\",\"id\",\"gender\",\"UID\",\"department\"])\n",
    "df_directors.head()"
   ]
  },
  {
   "cell_type": "code",
   "execution_count": 25,
   "id": "71d1fe6c-06c4-47e0-aec1-97ac43ffeb33",
   "metadata": {},
   "outputs": [
    {
     "name": "stdout",
     "output_type": "stream",
     "text": [
      "<class 'pandas.core.frame.DataFrame'>\n",
      "RangeIndex: 2349 entries, 0 to 2348\n",
      "Data columns (total 5 columns):\n",
      " #   Column      Non-Null Count  Dtype \n",
      "---  ------      --------------  ----- \n",
      " 0   Name        2349 non-null   object\n",
      " 1   id          2349 non-null   int64 \n",
      " 2   gender      2349 non-null   int64 \n",
      " 3   UID         2349 non-null   int64 \n",
      " 4   department  2349 non-null   object\n",
      "dtypes: int64(3), object(2)\n",
      "memory usage: 91.9+ KB\n"
     ]
    }
   ],
   "source": [
    "# Directors table info\n",
    "df_directors.info()"
   ]
  },
  {
   "cell_type": "markdown",
   "id": "2ef26368-59d4-41dd-9e92-4839a909ddeb",
   "metadata": {},
   "source": [
    "### Query 5: Count of Movies"
   ]
  },
  {
   "cell_type": "code",
   "execution_count": 27,
   "id": "b07e0b3d-0201-4d6a-a7b3-3ae8d70b10f0",
   "metadata": {},
   "outputs": [
    {
     "name": "stdout",
     "output_type": "stream",
     "text": [
      "Number of movies present in the IMDB database: {4773}\n"
     ]
    }
   ],
   "source": [
    "curr.execute(\"SELECT COUNT(Title) FROM movies\")\n",
    "count=curr.fetchall()\n",
    "print(\"Number of movies present in the IMDB database:\",{count[0][0]})"
   ]
  },
  {
   "cell_type": "markdown",
   "id": "49bf1871-bb1a-47c6-bd14-8aeeb084c0bf",
   "metadata": {},
   "source": [
    "### Visualization for Query 5"
   ]
  },
  {
   "cell_type": "code",
   "execution_count": 29,
   "id": "86c605a8-92bd-4e9d-8167-20546426f78d",
   "metadata": {},
   "outputs": [
    {
     "name": "stdout",
     "output_type": "stream",
     "text": [
      "Movie Count is: 4773\n"
     ]
    },
    {
     "data": {
      "image/png": "[encoded data removed]",
      "text/plain": [
       "<Figure size 640x480 with 1 Axes>"
      ]
     },
     "metadata": {},
     "output_type": "display_data"
    }
   ],
   "source": [
    "movies_count=curr.execute(\"SELECT COUNT(*) FROM movies\").fetchone()[0]\n",
    "print(f\"Movie Count is: {movies_count}\")\n",
    "plt.bar(['Total Movies'],[movies_count],color='green')\n",
    "plt.title(\"Total Number of Movies\")\n",
    "plt.ylabel(\"Count\")\n",
    "plt.show()"
   ]
  },
  {
   "cell_type": "markdown",
   "id": "03a0e722-7daa-4b19-b9b5-5828ae836ced",
   "metadata": {},
   "source": [
    "## **Insight:**  \n",
    "The dataset contains over 4773 movies, offering a significant base for film trend analysis.\n"
   ]
  },
  {
   "cell_type": "markdown",
   "id": "0accd1c4-dfdd-4bdd-9bd9-840d4b01bd4b",
   "metadata": {},
   "source": [
    "### Query 6: Find the specific directors named:James Cameron, Luc Besson, Jhon Woom"
   ]
  },
  {
   "cell_type": "code",
   "execution_count": 32,
   "id": "59f5a982-015e-46dd-923d-545ebfd60599",
   "metadata": {},
   "outputs": [
    {
     "data": {
      "text/plain": [
       "[('James Cameron', 4762, 2, 2710, 'Directing'),\n",
       " ('John Woo', 4893, 2, 11401, 'Directing'),\n",
       " ('Luc Besson', 4949, 2, 59, 'Directing')]"
      ]
     },
     "execution_count": 32,
     "metadata": {},
     "output_type": "execute_result"
    }
   ],
   "source": [
    "curr.execute(\"SELECT * FROM directors where Name in('James Cameron', 'Luc Besson', 'John Woo')\")\n",
    "name=curr.fetchall()\n",
    "name"
   ]
  },
  {
   "cell_type": "markdown",
   "id": "e634d15d-92e1-43ef-a730-8876850c5bdd",
   "metadata": {},
   "source": [
    "### Query 7: Find all the directors starting with the name:'Steven'"
   ]
  },
  {
   "cell_type": "code",
   "execution_count": 34,
   "id": "bab99c10-ff48-408f-b96a-a64945ccdebd",
   "metadata": {},
   "outputs": [
    {
     "name": "stdout",
     "output_type": "stream",
     "text": [
      "THE DIRECTORS STARTING WITH 'STEVEN' ARE:[('Steven Spielberg', 4799, 2, 488, 'Directing'), ('Steven Soderbergh', 4909, 2, 1884, 'Directing'), ('Steven Brill', 5013, 2, 32593, 'Directing'), ('Steven Zaillian', 5117, 2, 2260, 'Directing'), ('Steven Quale', 5216, 2, 93214, 'Directing'), ('Steven Seagal', 5221, 2, 23880, 'Directing'), ('Steven E. de Souza', 5390, 2, 1726, 'Directing'), ('Steven Shainberg', 5803, 2, 67795, 'Directing'), ('Steven R. Monroe', 6713, 2, 88039, 'Directing')]\n"
     ]
    }
   ],
   "source": [
    "curr.execute(\"select * from directors where Name like 'Steven%' \")\n",
    "ex=curr.fetchall()\n",
    "print(f\"THE DIRECTORS STARTING WITH 'STEVEN' ARE:{ex}\")"
   ]
  },
  {
   "cell_type": "markdown",
   "id": "786bee66-22b8-4868-8811-21795f791705",
   "metadata": {},
   "source": [
    "### Query 8: Count the number of female directors"
   ]
  },
  {
   "cell_type": "code",
   "execution_count": 36,
   "id": "dab9307e-2640-4749-a3cf-d219cd2cd8ef",
   "metadata": {},
   "outputs": [
    {
     "name": "stdout",
     "output_type": "stream",
     "text": [
      "Total number of female directors we have is: 150\n"
     ]
    }
   ],
   "source": [
    "f_c=curr.execute(\"select count(name) from directors where gender==1\")\n",
    "f_d=curr.fetchall()\n",
    "print(\"Total number of female directors we have is:\",f_d[0][0])"
   ]
  },
  {
   "cell_type": "markdown",
   "id": "9bc41f75-1fd5-49db-8bc8-b194d6b339ec",
   "metadata": {},
   "source": [
    "### Visualization for female vs male directors"
   ]
  },
  {
   "cell_type": "code",
   "execution_count": 38,
   "id": "4c29a1ca-ee78-4f21-8813-3fc14d8f1ad2",
   "metadata": {},
   "outputs": [
    {
     "data": {
      "image/png": "[encoded data removed]",
      "text/plain": [
       "<Figure size 640x480 with 1 Axes>"
      ]
     },
     "metadata": {},
     "output_type": "display_data"
    }
   ],
   "source": [
    "f_c=curr.execute(\"SELECT COUNT(name) FROM directors WHERE gender==1\").fetchone()[0]\n",
    "total=curr.execute(\"SELECT COUNT(*) FROM directors\").fetchone()[0]\n",
    "m_c=total-f_c\n",
    "plt.pie([f_c,m_c],labels=['Female','Male'],autopct='%1.1f%%',colors=['pink','blue'])\n",
    "plt.title(\"Gender Distribution of Directors\")\n",
    "plt.show()"
   ]
  },
  {
   "cell_type": "markdown",
   "id": "109bad84-d9d5-42d4-9ae5-096be29550ee",
   "metadata": {},
   "source": [
    "## **Insight:**  \n",
    "Female directors constitute a small percentage of the total, highlighting a gender gap in the film industry.\n"
   ]
  },
  {
   "cell_type": "markdown",
   "id": "345c1419-0afa-4caa-a820-f0f9134946ed",
   "metadata": {},
   "source": [
    "### Query 9: Find the name of the 10th Female Director from the first."
   ]
  },
  {
   "cell_type": "code",
   "execution_count": 41,
   "id": "ecb144b9-bcbf-402a-b4de-5f20f6ec7a9a",
   "metadata": {},
   "outputs": [
    {
     "name": "stdout",
     "output_type": "stream",
     "text": [
      "Name of the 10th director from the first: Angelina Jolie\n"
     ]
    }
   ],
   "source": [
    "curr.execute(\"select Name from directors where gender==1\")\n",
    "f_d=curr.fetchall()\n",
    "print(\"Name of the 10th director from the first:\",f_d[9][0])"
   ]
  },
  {
   "cell_type": "markdown",
   "id": "48e4f268-7bf2-4098-ba36-f682169dc270",
   "metadata": {},
   "source": [
    "### Query 10: What are the 3 most popular movies?"
   ]
  },
  {
   "cell_type": "code",
   "execution_count": 43,
   "id": "3ca87969-0b38-4dc2-944f-f879a188ae48",
   "metadata": {},
   "outputs": [
    {
     "name": "stdout",
     "output_type": "stream",
     "text": [
      "Three most popular movies:[('Minions',), ('Interstellar',), ('Deadpool',)]\n"
     ]
    }
   ],
   "source": [
    "curr.execute(\"select Title from  movies order by popularity desc limit 3\")\n",
    "t_p=curr.fetchall()\n",
    "print(f\"Three most popular movies:{t_p}\")"
   ]
  },
  {
   "cell_type": "markdown",
   "id": "f293c225-ea21-4892-8638-3b4a807164df",
   "metadata": {},
   "source": [
    "### Visualization for popular movies"
   ]
  },
  {
   "cell_type": "code",
   "execution_count": 45,
   "id": "539892c3-12d2-4e16-8689-bd4fa62164bc",
   "metadata": {},
   "outputs": [
    {
     "data": {
      "image/png": "[encoded data removed]",
      "text/plain": [
       "<Figure size 640x480 with 1 Axes>"
      ]
     },
     "metadata": {},
     "output_type": "display_data"
    }
   ],
   "source": [
    "query=\"\"\"select title, popularity FROM movies ORDER BY popularity desc limit 3\"\"\"\n",
    "df_popular=pd.read_sql_query(query,conn)\n",
    "sns.barplot(x='popularity', y='title', data=df_popular)\n",
    "plt.title(\"Top 3 Most Popular Movies\")\n",
    "plt.xlabel(\"Popularity Score\")\n",
    "plt.ylabel(\"Movie Title\")\n",
    "plt.show()"
   ]
  },
  {
   "cell_type": "markdown",
   "id": "ae16b4c6-1ede-4c6b-bea5-58be4ab3568b",
   "metadata": {},
   "source": [
    "## **Insight:**  \n",
    "The most popular movies show significantly higher scores, indicating strong audience interest and media buzz.\n"
   ]
  },
  {
   "cell_type": "markdown",
   "id": "7859556a-9c5a-442f-b384-b46d10dcf16a",
   "metadata": {},
   "source": [
    "### Query 11: What are the 3 most bankable movies?"
   ]
  },
  {
   "cell_type": "code",
   "execution_count": 48,
   "id": "ad9e83f4-dead-49af-82c5-b7dffadcd358",
   "metadata": {},
   "outputs": [
    {
     "name": "stdout",
     "output_type": "stream",
     "text": [
      "Three most bankable movies:('Pirates of the Caribbean: On Stranger Tides', \"Pirates of the Caribbean: At World's End\", 'Avengers: Age of Ultron')\n"
     ]
    }
   ],
   "source": [
    "curr.execute(\"SELECT Title from movies order by budget desc limit 3\")\n",
    "bankable_t=curr.fetchall()\n",
    "#bankable_t\n",
    "print(f\"Three most bankable movies:{bankable_t[0][0],bankable_t[1][0],bankable_t[2][0]}\")"
   ]
  },
  {
   "cell_type": "markdown",
   "id": "309df7a7-dd9b-43f3-a065-82a0caeea062",
   "metadata": {},
   "source": [
    "### Observation:\n",
    "The top 3 most bankable movies (by budget) are high-investment films, showing studios spent heavily on big franchises and sequels.\n"
   ]
  },
  {
   "cell_type": "markdown",
   "id": "b87e5a67-9ee0-4535-bd21-a8db99c91d87",
   "metadata": {},
   "source": [
    "### Query 12: Most awarded average voted movie since jan 1st 2000."
   ]
  },
  {
   "cell_type": "code",
   "execution_count": 51,
   "id": "0e724ba1-1810-44f5-9c37-67528ef39e29",
   "metadata": {},
   "outputs": [
    {
     "name": "stdout",
     "output_type": "stream",
     "text": [
      "Sardaarji\n"
     ]
    }
   ],
   "source": [
    "curr.execute(\"SELECT title FROM movies WHERE release_date > '2000-01-01' ORDER BY vote_average DESC LIMIT 1\")\n",
    "most_Awarded = curr.fetchall()\n",
    "print(most_Awarded[0][0])"
   ]
  },
  {
   "cell_type": "markdown",
   "id": "551bbdbe-2e95-4ec7-ae58-d32fa778615e",
   "metadata": {},
   "source": [
    "### Query 13: Which movies were direced by Brenda Champan?"
   ]
  },
  {
   "cell_type": "code",
   "execution_count": 53,
   "id": "bc094cf7-fff0-4be2-b607-dbfccbad7377",
   "metadata": {},
   "outputs": [
    {
     "data": {
      "text/plain": [
       "'Brave'"
      ]
     },
     "execution_count": 53,
     "metadata": {},
     "output_type": "execute_result"
    }
   ],
   "source": [
    "curr.execute(\"Select original_title from movies inner join directors on movies.director_id= directors.id where directors.Name == 'Brenda Chapman' \")\n",
    "movies_b=curr.fetchall()\n",
    "movies_b[0][0]"
   ]
  },
  {
   "cell_type": "markdown",
   "id": "40116802-e6ec-4808-94af-bd615f650370",
   "metadata": {},
   "source": [
    "### Query 14: Name the director who has made most of the movies."
   ]
  },
  {
   "cell_type": "code",
   "execution_count": 55,
   "id": "9f99b303-2912-4d89-ba55-904ac413edd9",
   "metadata": {},
   "outputs": [
    {
     "data": {
      "text/plain": [
       "'Steven Spielberg'"
      ]
     },
     "execution_count": 55,
     "metadata": {},
     "output_type": "execute_result"
    }
   ],
   "source": [
    "curr.execute(\"select Name from directors inner join movies on directors.id=movies.director_id group by movies.director_id order by count(movies.original_title) desc limit 1\")\n",
    "name_d=curr.fetchall()\n",
    "name_d[0][0]"
   ]
  },
  {
   "cell_type": "markdown",
   "id": "f64944b2-6b3f-4d5d-bdfe-5954482bb68f",
   "metadata": {},
   "source": [
    "### Query 15: Name of the director who is most bankable."
   ]
  },
  {
   "cell_type": "code",
   "execution_count": 57,
   "id": "cb082005-7676-4064-90d1-f0f6c18243d7",
   "metadata": {},
   "outputs": [
    {
     "data": {
      "text/plain": [
       "'Steven Spielberg'"
      ]
     },
     "execution_count": 57,
     "metadata": {},
     "output_type": "execute_result"
    }
   ],
   "source": [
    "curr.execute(\"select Name from directors inner join movies on directors.id=movies.director_id group by movies.director_id order by sum(budget) desc limit 1\")\n",
    "most_b_d=curr.fetchall()\n",
    "most_b_d[0][0]"
   ]
  },
  {
   "cell_type": "markdown",
   "id": "f5a833fa-3eb9-46ad-8a7f-dea253c663e2",
   "metadata": {},
   "source": [
    "## ANALYSIS 2"
   ]
  },
  {
   "cell_type": "markdown",
   "id": "f5d79682-1271-4c5b-ab96-2e035a50d76b",
   "metadata": {},
   "source": [
    "## Budget Analysis:"
   ]
  },
  {
   "cell_type": "markdown",
   "id": "a1cc2373-1c92-4825-a952-556624d92ad2",
   "metadata": {},
   "source": [
    "### Query 16: Tell the Top 10 highest budget movies."
   ]
  },
  {
   "cell_type": "code",
   "execution_count": 61,
   "id": "fc5f2ffb-fa3b-4579-88d1-1587e13799c2",
   "metadata": {},
   "outputs": [
    {
     "data": {
      "text/html": [
       "<div>\n",
       "<style scoped>\n",
       "    .dataframe tbody tr th:only-of-type {\n",
       "        vertical-align: middle;\n",
       "    }\n",
       "\n",
       "    .dataframe tbody tr th {\n",
       "        vertical-align: top;\n",
       "    }\n",
       "\n",
       "    .dataframe thead th {\n",
       "        text-align: right;\n",
       "    }\n",
       "</style>\n",
       "<table border=\"1\" class=\"dataframe\">\n",
       "  <thead>\n",
       "    <tr style=\"text-align: right;\">\n",
       "      <th></th>\n",
       "      <th>0</th>\n",
       "    </tr>\n",
       "  </thead>\n",
       "  <tbody>\n",
       "    <tr>\n",
       "      <th>0</th>\n",
       "      <td>Pirates of the Caribbean: On Stranger Tides</td>\n",
       "    </tr>\n",
       "    <tr>\n",
       "      <th>1</th>\n",
       "      <td>Pirates of the Caribbean: At World's End</td>\n",
       "    </tr>\n",
       "    <tr>\n",
       "      <th>2</th>\n",
       "      <td>Avengers: Age of Ultron</td>\n",
       "    </tr>\n",
       "    <tr>\n",
       "      <th>3</th>\n",
       "      <td>Superman Returns</td>\n",
       "    </tr>\n",
       "    <tr>\n",
       "      <th>4</th>\n",
       "      <td>John Carter</td>\n",
       "    </tr>\n",
       "    <tr>\n",
       "      <th>5</th>\n",
       "      <td>Tangled</td>\n",
       "    </tr>\n",
       "    <tr>\n",
       "      <th>6</th>\n",
       "      <td>Spider-Man 3</td>\n",
       "    </tr>\n",
       "    <tr>\n",
       "      <th>7</th>\n",
       "      <td>The Lone Ranger</td>\n",
       "    </tr>\n",
       "    <tr>\n",
       "      <th>8</th>\n",
       "      <td>The Dark Knight Rises</td>\n",
       "    </tr>\n",
       "    <tr>\n",
       "      <th>9</th>\n",
       "      <td>Harry Potter and the Half-Blood Prince</td>\n",
       "    </tr>\n",
       "  </tbody>\n",
       "</table>\n",
       "</div>"
      ],
      "text/plain": [
       "                                             0\n",
       "0  Pirates of the Caribbean: On Stranger Tides\n",
       "1     Pirates of the Caribbean: At World's End\n",
       "2                      Avengers: Age of Ultron\n",
       "3                             Superman Returns\n",
       "4                                  John Carter\n",
       "5                                      Tangled\n",
       "6                                 Spider-Man 3\n",
       "7                              The Lone Ranger\n",
       "8                        The Dark Knight Rises\n",
       "9       Harry Potter and the Half-Blood Prince"
      ]
     },
     "execution_count": 61,
     "metadata": {},
     "output_type": "execute_result"
    }
   ],
   "source": [
    "curr.execute(\"select original_title from movies order by budget desc limit 10\")\n",
    "Top_10=curr.fetchall()\n",
    "top_10=pd.DataFrame(curr.execute(\"select original_title from movies order by budget desc limit 10\"))\n",
    "top_10"
   ]
  },
  {
   "cell_type": "markdown",
   "id": "8c264f7f-320a-49d8-ab1d-bb90aa9bf243",
   "metadata": {},
   "source": [
    "### Visualization for top budget movies"
   ]
  },
  {
   "cell_type": "code",
   "execution_count": 63,
   "id": "976b6bb5-eebb-4603-8444-bf008647bd0c",
   "metadata": {},
   "outputs": [
    {
     "data": {
      "image/png": "[encoded data removed]",
      "text/plain": [
       "<Figure size 640x480 with 1 Axes>"
      ]
     },
     "metadata": {},
     "output_type": "display_data"
    }
   ],
   "source": [
    "query=\"\"\"select title, budget FROM movies ORDER BY budget desc limit 10\"\"\"\n",
    "df_budget=pd.read_sql_query(query,conn)\n",
    "sns.barplot(x='budget',y='title',data=df_budget)\n",
    "plt.title(\"Top 10 Highest Budget Movies\")\n",
    "plt.xlabel(\"Budget\")\n",
    "plt.ylabel(\"Movie Title\")\n",
    "plt.show()"
   ]
  },
  {
   "cell_type": "markdown",
   "id": "ac9d7da2-7da0-4d85-915e-95d9b30f693d",
   "metadata": {},
   "source": [
    "## **Insight:**  \n",
    "High-budget movies often include blockbusters, indicating production value and scale.\n"
   ]
  },
  {
   "cell_type": "markdown",
   "id": "71dfd25b-a442-42e0-8578-07fdee1b4e13",
   "metadata": {},
   "source": [
    "## ANALYSIS 3:"
   ]
  },
  {
   "cell_type": "markdown",
   "id": "9d23a564-f557-4ac0-afd7-7cd0b4fc3458",
   "metadata": {},
   "source": [
    "## Revenue Analysis (Profit that has been generated)"
   ]
  },
  {
   "cell_type": "markdown",
   "id": "531c42f9-1c45-4ac9-b009-ff1002f8bc15",
   "metadata": {},
   "source": [
    "### Query 17: Find Top 10 Revenue making Movies."
   ]
  },
  {
   "cell_type": "code",
   "execution_count": 68,
   "id": "9f10e056-05d3-45ca-972e-384132b635ba",
   "metadata": {},
   "outputs": [
    {
     "data": {
      "text/html": [
       "<div>\n",
       "<style scoped>\n",
       "    .dataframe tbody tr th:only-of-type {\n",
       "        vertical-align: middle;\n",
       "    }\n",
       "\n",
       "    .dataframe tbody tr th {\n",
       "        vertical-align: top;\n",
       "    }\n",
       "\n",
       "    .dataframe thead th {\n",
       "        text-align: right;\n",
       "    }\n",
       "</style>\n",
       "<table border=\"1\" class=\"dataframe\">\n",
       "  <thead>\n",
       "    <tr style=\"text-align: right;\">\n",
       "      <th></th>\n",
       "      <th>0</th>\n",
       "      <th>1</th>\n",
       "      <th>2</th>\n",
       "      <th>3</th>\n",
       "      <th>4</th>\n",
       "      <th>5</th>\n",
       "      <th>6</th>\n",
       "      <th>7</th>\n",
       "      <th>8</th>\n",
       "      <th>9</th>\n",
       "      <th>10</th>\n",
       "      <th>11</th>\n",
       "      <th>12</th>\n",
       "    </tr>\n",
       "  </thead>\n",
       "  <tbody>\n",
       "    <tr>\n",
       "      <th>0</th>\n",
       "      <td>43597</td>\n",
       "      <td>Avatar</td>\n",
       "      <td>237000000</td>\n",
       "      <td>150</td>\n",
       "      <td>2009-12-10</td>\n",
       "      <td>2787965087</td>\n",
       "      <td>Avatar</td>\n",
       "      <td>7.2</td>\n",
       "      <td>11800</td>\n",
       "      <td>In the 22nd century, a paraplegic Marine is di...</td>\n",
       "      <td>Enter the World of Pandora.</td>\n",
       "      <td>19995</td>\n",
       "      <td>4762</td>\n",
       "    </tr>\n",
       "    <tr>\n",
       "      <th>1</th>\n",
       "      <td>43622</td>\n",
       "      <td>Titanic</td>\n",
       "      <td>200000000</td>\n",
       "      <td>100</td>\n",
       "      <td>1997-11-18</td>\n",
       "      <td>1845034188</td>\n",
       "      <td>Titanic</td>\n",
       "      <td>7.5</td>\n",
       "      <td>7562</td>\n",
       "      <td>84 years later, a 101-year-old woman named Ros...</td>\n",
       "      <td>Nothing on Earth could come between them.</td>\n",
       "      <td>597</td>\n",
       "      <td>4762</td>\n",
       "    </tr>\n",
       "    <tr>\n",
       "      <th>2</th>\n",
       "      <td>43613</td>\n",
       "      <td>The Avengers</td>\n",
       "      <td>220000000</td>\n",
       "      <td>144</td>\n",
       "      <td>2012-04-25</td>\n",
       "      <td>1519557910</td>\n",
       "      <td>The Avengers</td>\n",
       "      <td>7.4</td>\n",
       "      <td>11776</td>\n",
       "      <td>When an unexpected enemy emerges and threatens...</td>\n",
       "      <td>Some assembly required.</td>\n",
       "      <td>24428</td>\n",
       "      <td>4769</td>\n",
       "    </tr>\n",
       "    <tr>\n",
       "      <th>3</th>\n",
       "      <td>43625</td>\n",
       "      <td>Jurassic World</td>\n",
       "      <td>150000000</td>\n",
       "      <td>418</td>\n",
       "      <td>2015-06-09</td>\n",
       "      <td>1513528810</td>\n",
       "      <td>Jurassic World</td>\n",
       "      <td>6.5</td>\n",
       "      <td>8662</td>\n",
       "      <td>Twenty-two years after the events of Jurassic ...</td>\n",
       "      <td>The park is open.</td>\n",
       "      <td>135397</td>\n",
       "      <td>4783</td>\n",
       "    </tr>\n",
       "    <tr>\n",
       "      <th>4</th>\n",
       "      <td>43641</td>\n",
       "      <td>Furious 7</td>\n",
       "      <td>190000000</td>\n",
       "      <td>102</td>\n",
       "      <td>2015-04-01</td>\n",
       "      <td>1506249360</td>\n",
       "      <td>Furious 7</td>\n",
       "      <td>7.3</td>\n",
       "      <td>4176</td>\n",
       "      <td>Deckard Shaw seeks revenge against Dominic Tor...</td>\n",
       "      <td>Vengeance Hits Home</td>\n",
       "      <td>168259</td>\n",
       "      <td>4794</td>\n",
       "    </tr>\n",
       "    <tr>\n",
       "      <th>5</th>\n",
       "      <td>43604</td>\n",
       "      <td>Avengers: Age of Ultron</td>\n",
       "      <td>280000000</td>\n",
       "      <td>134</td>\n",
       "      <td>2015-04-22</td>\n",
       "      <td>1405403694</td>\n",
       "      <td>Avengers: Age of Ultron</td>\n",
       "      <td>7.3</td>\n",
       "      <td>6767</td>\n",
       "      <td>When Tony Stark tries to jumpstart a dormant p...</td>\n",
       "      <td>A New Age Has Come.</td>\n",
       "      <td>99861</td>\n",
       "      <td>4769</td>\n",
       "    </tr>\n",
       "    <tr>\n",
       "      <th>6</th>\n",
       "      <td>43721</td>\n",
       "      <td>Frozen</td>\n",
       "      <td>150000000</td>\n",
       "      <td>165</td>\n",
       "      <td>2013-11-27</td>\n",
       "      <td>1274219009</td>\n",
       "      <td>Frozen</td>\n",
       "      <td>7.3</td>\n",
       "      <td>5295</td>\n",
       "      <td>Young princess Anna of Arendelle dreams about ...</td>\n",
       "      <td>Only the act of true love will thaw a frozen h...</td>\n",
       "      <td>109445</td>\n",
       "      <td>4844</td>\n",
       "    </tr>\n",
       "    <tr>\n",
       "      <th>7</th>\n",
       "      <td>43628</td>\n",
       "      <td>Iron Man 3</td>\n",
       "      <td>200000000</td>\n",
       "      <td>77</td>\n",
       "      <td>2013-04-18</td>\n",
       "      <td>1215439994</td>\n",
       "      <td>Iron Man 3</td>\n",
       "      <td>6.8</td>\n",
       "      <td>8806</td>\n",
       "      <td>When Tony Stark's world is torn apart by a for...</td>\n",
       "      <td>Unleash the power behind the armor.</td>\n",
       "      <td>68721</td>\n",
       "      <td>4784</td>\n",
       "    </tr>\n",
       "    <tr>\n",
       "      <th>8</th>\n",
       "      <td>44143</td>\n",
       "      <td>Minions</td>\n",
       "      <td>74000000</td>\n",
       "      <td>875</td>\n",
       "      <td>2015-06-17</td>\n",
       "      <td>1156730962</td>\n",
       "      <td>Minions</td>\n",
       "      <td>6.4</td>\n",
       "      <td>4571</td>\n",
       "      <td>Minions Stuart, Kevin and Bob are recruited by...</td>\n",
       "      <td>Before Gru, they had a history of bad bosses</td>\n",
       "      <td>211672</td>\n",
       "      <td>5045</td>\n",
       "    </tr>\n",
       "    <tr>\n",
       "      <th>9</th>\n",
       "      <td>43623</td>\n",
       "      <td>Captain America: Civil War</td>\n",
       "      <td>250000000</td>\n",
       "      <td>198</td>\n",
       "      <td>2016-04-27</td>\n",
       "      <td>1153304495</td>\n",
       "      <td>Captain America: Civil War</td>\n",
       "      <td>7.1</td>\n",
       "      <td>7241</td>\n",
       "      <td>Following the events of Age of Ultron, the col...</td>\n",
       "      <td>Divided We Fall</td>\n",
       "      <td>271110</td>\n",
       "      <td>4781</td>\n",
       "    </tr>\n",
       "  </tbody>\n",
       "</table>\n",
       "</div>"
      ],
      "text/plain": [
       "      0                           1          2    3           4           5   \\\n",
       "0  43597                      Avatar  237000000  150  2009-12-10  2787965087   \n",
       "1  43622                     Titanic  200000000  100  1997-11-18  1845034188   \n",
       "2  43613                The Avengers  220000000  144  2012-04-25  1519557910   \n",
       "3  43625              Jurassic World  150000000  418  2015-06-09  1513528810   \n",
       "4  43641                   Furious 7  190000000  102  2015-04-01  1506249360   \n",
       "5  43604     Avengers: Age of Ultron  280000000  134  2015-04-22  1405403694   \n",
       "6  43721                      Frozen  150000000  165  2013-11-27  1274219009   \n",
       "7  43628                  Iron Man 3  200000000   77  2013-04-18  1215439994   \n",
       "8  44143                     Minions   74000000  875  2015-06-17  1156730962   \n",
       "9  43623  Captain America: Civil War  250000000  198  2016-04-27  1153304495   \n",
       "\n",
       "                           6    7      8   \\\n",
       "0                      Avatar  7.2  11800   \n",
       "1                     Titanic  7.5   7562   \n",
       "2                The Avengers  7.4  11776   \n",
       "3              Jurassic World  6.5   8662   \n",
       "4                   Furious 7  7.3   4176   \n",
       "5     Avengers: Age of Ultron  7.3   6767   \n",
       "6                      Frozen  7.3   5295   \n",
       "7                  Iron Man 3  6.8   8806   \n",
       "8                     Minions  6.4   4571   \n",
       "9  Captain America: Civil War  7.1   7241   \n",
       "\n",
       "                                                  9   \\\n",
       "0  In the 22nd century, a paraplegic Marine is di...   \n",
       "1  84 years later, a 101-year-old woman named Ros...   \n",
       "2  When an unexpected enemy emerges and threatens...   \n",
       "3  Twenty-two years after the events of Jurassic ...   \n",
       "4  Deckard Shaw seeks revenge against Dominic Tor...   \n",
       "5  When Tony Stark tries to jumpstart a dormant p...   \n",
       "6  Young princess Anna of Arendelle dreams about ...   \n",
       "7  When Tony Stark's world is torn apart by a for...   \n",
       "8  Minions Stuart, Kevin and Bob are recruited by...   \n",
       "9  Following the events of Age of Ultron, the col...   \n",
       "\n",
       "                                                  10      11    12  \n",
       "0                        Enter the World of Pandora.   19995  4762  \n",
       "1          Nothing on Earth could come between them.     597  4762  \n",
       "2                            Some assembly required.   24428  4769  \n",
       "3                                  The park is open.  135397  4783  \n",
       "4                                Vengeance Hits Home  168259  4794  \n",
       "5                                A New Age Has Come.   99861  4769  \n",
       "6  Only the act of true love will thaw a frozen h...  109445  4844  \n",
       "7                Unleash the power behind the armor.   68721  4784  \n",
       "8       Before Gru, they had a history of bad bosses  211672  5045  \n",
       "9                                    Divided We Fall  271110  4781  "
      ]
     },
     "execution_count": 68,
     "metadata": {},
     "output_type": "execute_result"
    }
   ],
   "source": [
    "top_10_r=pd.DataFrame(curr.execute(\"select * from movies order by revenue desc limit 10\"))\n",
    "top_10_r"
   ]
  },
  {
   "cell_type": "markdown",
   "id": "5f6c1531-b745-4bed-8b04-0aa42a32f18c",
   "metadata": {},
   "source": [
    "### Visualization for top revenue movies"
   ]
  },
  {
   "cell_type": "code",
   "execution_count": 70,
   "id": "c4b143b3-2714-46f5-9b6f-10f6de43214d",
   "metadata": {},
   "outputs": [
    {
     "data": {
      "image/png": "[encoded data removed]",
      "text/plain": [
       "<Figure size 640x480 with 1 Axes>"
      ]
     },
     "metadata": {},
     "output_type": "display_data"
    }
   ],
   "source": [
    "query=\"\"\"SELECT title, revenue FROM movies ORDER BY revenue DESC LIMIT 10\"\"\"\n",
    "df_revenue=pd.read_sql_query(query,conn)\n",
    "sns.barplot(x='revenue',y='title',data=df_revenue)\n",
    "plt.title(\"Top 10 Revenue-Making Movies\")\n",
    "plt.xlabel(\"Revenue\")\n",
    "plt.ylabel(\"Movie Title\")\n",
    "plt.show()"
   ]
  },
  {
   "cell_type": "markdown",
   "id": "3f39dd26-7bee-4c46-a954-e7fada31f943",
   "metadata": {},
   "source": [
    "## **Insight:**  \n",
    "Top-grossing films dominate global box offices, often linked with franchises or award-winning production teams.\n"
   ]
  },
  {
   "cell_type": "markdown",
   "id": "a3420a8c-55f9-457e-bbd5-46e835906cb5",
   "metadata": {},
   "source": [
    "## ANALYSIS 4:"
   ]
  },
  {
   "cell_type": "markdown",
   "id": "a8388e44-22f4-434b-8997-030926376b69",
   "metadata": {},
   "source": [
    "## Voting Analysis:"
   ]
  },
  {
   "cell_type": "markdown",
   "id": "b4191f5f-f663-4a42-afdc-e0e3a4dd23ef",
   "metadata": {},
   "source": [
    "### Query 18: Find the most popular movie with highest vote average."
   ]
  },
  {
   "cell_type": "code",
   "execution_count": 75,
   "id": "a05c050e-97bd-4960-8c08-c71a3d6f9664",
   "metadata": {},
   "outputs": [
    {
     "data": {
      "text/html": [
       "<div>\n",
       "<style scoped>\n",
       "    .dataframe tbody tr th:only-of-type {\n",
       "        vertical-align: middle;\n",
       "    }\n",
       "\n",
       "    .dataframe tbody tr th {\n",
       "        vertical-align: top;\n",
       "    }\n",
       "\n",
       "    .dataframe thead th {\n",
       "        text-align: right;\n",
       "    }\n",
       "</style>\n",
       "<table border=\"1\" class=\"dataframe\">\n",
       "  <thead>\n",
       "    <tr style=\"text-align: right;\">\n",
       "      <th></th>\n",
       "      <th>0</th>\n",
       "      <th>1</th>\n",
       "      <th>2</th>\n",
       "      <th>3</th>\n",
       "      <th>4</th>\n",
       "      <th>5</th>\n",
       "      <th>6</th>\n",
       "      <th>7</th>\n",
       "      <th>8</th>\n",
       "      <th>9</th>\n",
       "      <th>10</th>\n",
       "      <th>11</th>\n",
       "      <th>12</th>\n",
       "    </tr>\n",
       "  </thead>\n",
       "  <tbody>\n",
       "    <tr>\n",
       "      <th>0</th>\n",
       "      <td>47116</td>\n",
       "      <td>Stiff Upper Lips</td>\n",
       "      <td>0</td>\n",
       "      <td>0</td>\n",
       "      <td>1998-06-12</td>\n",
       "      <td>0</td>\n",
       "      <td>Stiff Upper Lips</td>\n",
       "      <td>10.0</td>\n",
       "      <td>1</td>\n",
       "      <td>Stiff Upper Lips is a broad parody of British ...</td>\n",
       "      <td>None</td>\n",
       "      <td>89861</td>\n",
       "      <td>6332</td>\n",
       "    </tr>\n",
       "  </tbody>\n",
       "</table>\n",
       "</div>"
      ],
      "text/plain": [
       "      0                 1   2   3           4   5                 6     7   \\\n",
       "0  47116  Stiff Upper Lips   0   0  1998-06-12   0  Stiff Upper Lips  10.0   \n",
       "\n",
       "   8                                                  9     10     11    12  \n",
       "0   1  Stiff Upper Lips is a broad parody of British ...  None  89861  6332  "
      ]
     },
     "execution_count": 75,
     "metadata": {},
     "output_type": "execute_result"
    }
   ],
   "source": [
    "h_v_avg=pd.DataFrame(curr.execute(\"select * from movies order by vote_average desc limit 1\"))\n",
    "h_v_avg"
   ]
  },
  {
   "cell_type": "markdown",
   "id": "39e8d167-b46f-4953-beca-cae985697ca3",
   "metadata": {},
   "source": [
    "###  Observation:\n",
    "The movie **\"Stiff Upper Lips\"** has the highest vote average of **10.0**, making it the top-rated movie in the dataset.\n"
   ]
  },
  {
   "cell_type": "markdown",
   "id": "bccb18f5-c515-420d-a597-9e1b88a8446d",
   "metadata": {},
   "source": [
    "## ANALYSIS 5:"
   ]
  },
  {
   "cell_type": "markdown",
   "id": "136127c6-efe2-4a3b-b23b-d0fab8815367",
   "metadata": {},
   "source": [
    "## Director Analysis:"
   ]
  },
  {
   "cell_type": "markdown",
   "id": "71caf44f-abb1-4104-8fd7-5ca74d520148",
   "metadata": {},
   "source": [
    "### Query 19: Name all directors with the number of movies and revenue where revenue should be taken into account for doing the analysis.The director who has highest revenue should come at top and so forth."
   ]
  },
  {
   "cell_type": "code",
   "execution_count": 80,
   "id": "7447d87b-af95-4212-8713-edfe792a3e91",
   "metadata": {},
   "outputs": [
    {
     "data": {
      "text/html": [
       "<div>\n",
       "<style scoped>\n",
       "    .dataframe tbody tr th:only-of-type {\n",
       "        vertical-align: middle;\n",
       "    }\n",
       "\n",
       "    .dataframe tbody tr th {\n",
       "        vertical-align: top;\n",
       "    }\n",
       "\n",
       "    .dataframe thead th {\n",
       "        text-align: right;\n",
       "    }\n",
       "</style>\n",
       "<table border=\"1\" class=\"dataframe\">\n",
       "  <thead>\n",
       "    <tr style=\"text-align: right;\">\n",
       "      <th></th>\n",
       "      <th>0</th>\n",
       "      <th>1</th>\n",
       "      <th>2</th>\n",
       "    </tr>\n",
       "  </thead>\n",
       "  <tbody>\n",
       "    <tr>\n",
       "      <th>0</th>\n",
       "      <td>Steven Spielberg</td>\n",
       "      <td>27</td>\n",
       "      <td>9147393164</td>\n",
       "    </tr>\n",
       "    <tr>\n",
       "      <th>1</th>\n",
       "      <td>Peter Jackson</td>\n",
       "      <td>9</td>\n",
       "      <td>6498642820</td>\n",
       "    </tr>\n",
       "    <tr>\n",
       "      <th>2</th>\n",
       "      <td>James Cameron</td>\n",
       "      <td>7</td>\n",
       "      <td>5883569439</td>\n",
       "    </tr>\n",
       "    <tr>\n",
       "      <th>3</th>\n",
       "      <td>Michael Bay</td>\n",
       "      <td>12</td>\n",
       "      <td>5832524638</td>\n",
       "    </tr>\n",
       "    <tr>\n",
       "      <th>4</th>\n",
       "      <td>Christopher Nolan</td>\n",
       "      <td>8</td>\n",
       "      <td>4227483234</td>\n",
       "    </tr>\n",
       "  </tbody>\n",
       "</table>\n",
       "</div>"
      ],
      "text/plain": [
       "                   0   1           2\n",
       "0   Steven Spielberg  27  9147393164\n",
       "1      Peter Jackson   9  6498642820\n",
       "2      James Cameron   7  5883569439\n",
       "3        Michael Bay  12  5832524638\n",
       "4  Christopher Nolan   8  4227483234"
      ]
     },
     "execution_count": 80,
     "metadata": {},
     "output_type": "execute_result"
    }
   ],
   "source": [
    "d_a=pd.DataFrame(curr.execute(\"select Name,count(*) as 'Total MOvies',sum(revenue) as 'Total Revenue' from directors join movies on directors.id=movies.director_id group by movies.director_id order by sum(revenue) desc\"))\n",
    "d_a.head()"
   ]
  },
  {
   "cell_type": "markdown",
   "id": "5057b54a-3669-4153-9a8a-eef1756c1467",
   "metadata": {},
   "source": [
    "### Visualization: Revenue by top directors"
   ]
  },
  {
   "cell_type": "code",
   "execution_count": 82,
   "id": "b8ed5f42-0082-49ea-ac7f-1b3c5d7c6ce9",
   "metadata": {},
   "outputs": [
    {
     "data": {
      "image/png": "[encoded data removed]",
      "text/plain": [
       "<Figure size 640x480 with 1 Axes>"
      ]
     },
     "metadata": {},
     "output_type": "display_data"
    }
   ],
   "source": [
    "query = \"\"\"\n",
    "SELECT d.name AS director, COUNT(m.id) AS movie_count, SUM(m.revenue) AS total_revenue\n",
    "FROM directors d\n",
    "JOIN movies m ON d.id = m.director_id\n",
    "GROUP BY d.name\n",
    "ORDER BY total_revenue DESC\n",
    "LIMIT 10\n",
    "\"\"\"\n",
    "df_dir_rev=pd.read_sql_query(query,conn)\n",
    "sns.barplot(x='total_revenue',y='director',data=df_dir_rev)\n",
    "plt.title(\"Top 10 Directors by Total Revenue\")\n",
    "plt.xlabel(\"Total Revenue\")\n",
    "plt.ylabel(\"Director\")\n",
    "plt.show()"
   ]
  },
  {
   "cell_type": "markdown",
   "id": "ed0d0f8a-e63f-4fa5-a894-35910c5dfea9",
   "metadata": {},
   "source": [
    "## **Insight:**  \n",
    "The most bankable directors consistently generate high box office returns, contributing to industry success.\n"
   ]
  },
  {
   "cell_type": "markdown",
   "id": "8c641209-0435-4581-bc82-979e75b530c5",
   "metadata": {},
   "source": [
    "### Query 20: Name all directors with the number of movies and revenue where no of movies should be taken into account for doing the analysis.The director who has highest no of movie should come at top and so forth."
   ]
  },
  {
   "cell_type": "code",
   "execution_count": 85,
   "id": "66788985-64b5-439b-afd2-4fa1fe6c5e4f",
   "metadata": {},
   "outputs": [
    {
     "data": {
      "text/html": [
       "<div>\n",
       "<style scoped>\n",
       "    .dataframe tbody tr th:only-of-type {\n",
       "        vertical-align: middle;\n",
       "    }\n",
       "\n",
       "    .dataframe tbody tr th {\n",
       "        vertical-align: top;\n",
       "    }\n",
       "\n",
       "    .dataframe thead th {\n",
       "        text-align: right;\n",
       "    }\n",
       "</style>\n",
       "<table border=\"1\" class=\"dataframe\">\n",
       "  <thead>\n",
       "    <tr style=\"text-align: right;\">\n",
       "      <th></th>\n",
       "      <th>0</th>\n",
       "      <th>1</th>\n",
       "      <th>2</th>\n",
       "    </tr>\n",
       "  </thead>\n",
       "  <tbody>\n",
       "    <tr>\n",
       "      <th>0</th>\n",
       "      <td>Steven Spielberg</td>\n",
       "      <td>27</td>\n",
       "      <td>9147393164</td>\n",
       "    </tr>\n",
       "    <tr>\n",
       "      <th>1</th>\n",
       "      <td>Woody Allen</td>\n",
       "      <td>21</td>\n",
       "      <td>669101038</td>\n",
       "    </tr>\n",
       "    <tr>\n",
       "      <th>2</th>\n",
       "      <td>Clint Eastwood</td>\n",
       "      <td>20</td>\n",
       "      <td>2512058888</td>\n",
       "    </tr>\n",
       "    <tr>\n",
       "      <th>3</th>\n",
       "      <td>Martin Scorsese</td>\n",
       "      <td>20</td>\n",
       "      <td>1956635998</td>\n",
       "    </tr>\n",
       "    <tr>\n",
       "      <th>4</th>\n",
       "      <td>Spike Lee</td>\n",
       "      <td>16</td>\n",
       "      <td>340618771</td>\n",
       "    </tr>\n",
       "  </tbody>\n",
       "</table>\n",
       "</div>"
      ],
      "text/plain": [
       "                  0   1           2\n",
       "0  Steven Spielberg  27  9147393164\n",
       "1       Woody Allen  21   669101038\n",
       "2    Clint Eastwood  20  2512058888\n",
       "3   Martin Scorsese  20  1956635998\n",
       "4         Spike Lee  16   340618771"
      ]
     },
     "execution_count": 85,
     "metadata": {},
     "output_type": "execute_result"
    }
   ],
   "source": [
    "h_m=pd.DataFrame(curr.execute(\"select Name,count(title) as 'Total Movies',sum(revenue) as 'Total Revenue' from directors join movies on directors.id=movies.director_id group by movies.director_id order by count(title) desc\"))\n",
    "h_m.head()"
   ]
  },
  {
   "cell_type": "markdown",
   "id": "097ae4eb-e176-4ca4-bd0e-deb44006a2a0",
   "metadata": {},
   "source": [
    "### Observation:\n",
    "Steven Spielberg directed the most movies (27) and also generated the highest total revenue, followed by Woody Allen and Clint Eastwood.\n"
   ]
  },
  {
   "cell_type": "markdown",
   "id": "3c48e91d-ecc0-4c0d-ab82-a13a3f522e3a",
   "metadata": {},
   "source": [
    "### Query 21: Give the title,budget,release_date,budget,revenue,popularity and vote_average made Steven Spielberg"
   ]
  },
  {
   "cell_type": "code",
   "execution_count": 88,
   "id": "528d4db0-b95c-4ae7-9433-9cef068ef538",
   "metadata": {
    "scrolled": true
   },
   "outputs": [
    {
     "data": {
      "text/html": [
       "<div>\n",
       "<style scoped>\n",
       "    .dataframe tbody tr th:only-of-type {\n",
       "        vertical-align: middle;\n",
       "    }\n",
       "\n",
       "    .dataframe tbody tr th {\n",
       "        vertical-align: top;\n",
       "    }\n",
       "\n",
       "    .dataframe thead th {\n",
       "        text-align: right;\n",
       "    }\n",
       "</style>\n",
       "<table border=\"1\" class=\"dataframe\">\n",
       "  <thead>\n",
       "    <tr style=\"text-align: right;\">\n",
       "      <th></th>\n",
       "      <th>0</th>\n",
       "      <th>1</th>\n",
       "      <th>2</th>\n",
       "      <th>3</th>\n",
       "      <th>4</th>\n",
       "      <th>5</th>\n",
       "    </tr>\n",
       "  </thead>\n",
       "  <tbody>\n",
       "    <tr>\n",
       "      <th>0</th>\n",
       "      <td>Indiana Jones and the Kingdom of the Crystal S...</td>\n",
       "      <td>185000000</td>\n",
       "      <td>2008-05-21</td>\n",
       "      <td>786636033</td>\n",
       "      <td>75</td>\n",
       "      <td>5.7</td>\n",
       "    </tr>\n",
       "    <tr>\n",
       "      <th>1</th>\n",
       "      <td>The BFG</td>\n",
       "      <td>140000000</td>\n",
       "      <td>2016-06-01</td>\n",
       "      <td>183345589</td>\n",
       "      <td>44</td>\n",
       "      <td>6.0</td>\n",
       "    </tr>\n",
       "    <tr>\n",
       "      <th>2</th>\n",
       "      <td>War of the Worlds</td>\n",
       "      <td>132000000</td>\n",
       "      <td>2005-06-28</td>\n",
       "      <td>591739379</td>\n",
       "      <td>48</td>\n",
       "      <td>6.2</td>\n",
       "    </tr>\n",
       "    <tr>\n",
       "      <th>3</th>\n",
       "      <td>The Adventures of Tintin</td>\n",
       "      <td>130000000</td>\n",
       "      <td>2011-10-25</td>\n",
       "      <td>371940071</td>\n",
       "      <td>89</td>\n",
       "      <td>6.7</td>\n",
       "    </tr>\n",
       "    <tr>\n",
       "      <th>4</th>\n",
       "      <td>Minority Report</td>\n",
       "      <td>102000000</td>\n",
       "      <td>2002-06-20</td>\n",
       "      <td>358372926</td>\n",
       "      <td>65</td>\n",
       "      <td>7.1</td>\n",
       "    </tr>\n",
       "    <tr>\n",
       "      <th>5</th>\n",
       "      <td>A.I. Artificial Intelligence</td>\n",
       "      <td>100000000</td>\n",
       "      <td>2001-06-29</td>\n",
       "      <td>235926552</td>\n",
       "      <td>34</td>\n",
       "      <td>6.8</td>\n",
       "    </tr>\n",
       "    <tr>\n",
       "      <th>6</th>\n",
       "      <td>The Lost World: Jurassic Park</td>\n",
       "      <td>73000000</td>\n",
       "      <td>1997-05-23</td>\n",
       "      <td>229074524</td>\n",
       "      <td>2</td>\n",
       "      <td>6.2</td>\n",
       "    </tr>\n",
       "    <tr>\n",
       "      <th>7</th>\n",
       "      <td>The Terminal</td>\n",
       "      <td>60000000</td>\n",
       "      <td>2004-06-17</td>\n",
       "      <td>219417255</td>\n",
       "      <td>57</td>\n",
       "      <td>7.0</td>\n",
       "    </tr>\n",
       "    <tr>\n",
       "      <th>8</th>\n",
       "      <td>Munich</td>\n",
       "      <td>70000000</td>\n",
       "      <td>2005-12-22</td>\n",
       "      <td>130358911</td>\n",
       "      <td>29</td>\n",
       "      <td>6.9</td>\n",
       "    </tr>\n",
       "    <tr>\n",
       "      <th>9</th>\n",
       "      <td>Hook</td>\n",
       "      <td>70000000</td>\n",
       "      <td>1991-12-11</td>\n",
       "      <td>300854823</td>\n",
       "      <td>33</td>\n",
       "      <td>6.6</td>\n",
       "    </tr>\n",
       "    <tr>\n",
       "      <th>10</th>\n",
       "      <td>War Horse</td>\n",
       "      <td>66000000</td>\n",
       "      <td>2011-12-25</td>\n",
       "      <td>177584879</td>\n",
       "      <td>29</td>\n",
       "      <td>7.0</td>\n",
       "    </tr>\n",
       "    <tr>\n",
       "      <th>11</th>\n",
       "      <td>Saving Private Ryan</td>\n",
       "      <td>70000000</td>\n",
       "      <td>1998-07-24</td>\n",
       "      <td>481840909</td>\n",
       "      <td>76</td>\n",
       "      <td>7.9</td>\n",
       "    </tr>\n",
       "    <tr>\n",
       "      <th>12</th>\n",
       "      <td>Lincoln</td>\n",
       "      <td>65000000</td>\n",
       "      <td>2012-11-09</td>\n",
       "      <td>275293450</td>\n",
       "      <td>36</td>\n",
       "      <td>6.7</td>\n",
       "    </tr>\n",
       "    <tr>\n",
       "      <th>13</th>\n",
       "      <td>Jurassic Park</td>\n",
       "      <td>63000000</td>\n",
       "      <td>1993-06-11</td>\n",
       "      <td>920100000</td>\n",
       "      <td>40</td>\n",
       "      <td>7.6</td>\n",
       "    </tr>\n",
       "    <tr>\n",
       "      <th>14</th>\n",
       "      <td>Catch Me If You Can</td>\n",
       "      <td>52000000</td>\n",
       "      <td>2002-12-25</td>\n",
       "      <td>352114312</td>\n",
       "      <td>73</td>\n",
       "      <td>7.7</td>\n",
       "    </tr>\n",
       "    <tr>\n",
       "      <th>15</th>\n",
       "      <td>Indiana Jones and the Last Crusade</td>\n",
       "      <td>48000000</td>\n",
       "      <td>1989-05-24</td>\n",
       "      <td>474171806</td>\n",
       "      <td>80</td>\n",
       "      <td>7.6</td>\n",
       "    </tr>\n",
       "    <tr>\n",
       "      <th>16</th>\n",
       "      <td>Bridge of Spies</td>\n",
       "      <td>40000000</td>\n",
       "      <td>2015-10-15</td>\n",
       "      <td>165478348</td>\n",
       "      <td>48</td>\n",
       "      <td>7.2</td>\n",
       "    </tr>\n",
       "    <tr>\n",
       "      <th>17</th>\n",
       "      <td>Amistad</td>\n",
       "      <td>36000000</td>\n",
       "      <td>1997-12-03</td>\n",
       "      <td>74000000</td>\n",
       "      <td>3</td>\n",
       "      <td>6.8</td>\n",
       "    </tr>\n",
       "    <tr>\n",
       "      <th>18</th>\n",
       "      <td>1941</td>\n",
       "      <td>35000000</td>\n",
       "      <td>1979-12-13</td>\n",
       "      <td>31755742</td>\n",
       "      <td>10</td>\n",
       "      <td>5.6</td>\n",
       "    </tr>\n",
       "    <tr>\n",
       "      <th>19</th>\n",
       "      <td>Indiana Jones and the Temple of Doom</td>\n",
       "      <td>28000000</td>\n",
       "      <td>1984-05-23</td>\n",
       "      <td>333000000</td>\n",
       "      <td>66</td>\n",
       "      <td>7.1</td>\n",
       "    </tr>\n",
       "    <tr>\n",
       "      <th>20</th>\n",
       "      <td>Schindler's List</td>\n",
       "      <td>22000000</td>\n",
       "      <td>1993-11-29</td>\n",
       "      <td>321365567</td>\n",
       "      <td>104</td>\n",
       "      <td>8.3</td>\n",
       "    </tr>\n",
       "    <tr>\n",
       "      <th>21</th>\n",
       "      <td>Raiders of the Lost Ark</td>\n",
       "      <td>18000000</td>\n",
       "      <td>1981-06-12</td>\n",
       "      <td>389925971</td>\n",
       "      <td>68</td>\n",
       "      <td>7.7</td>\n",
       "    </tr>\n",
       "    <tr>\n",
       "      <th>22</th>\n",
       "      <td>Close Encounters of the Third Kind</td>\n",
       "      <td>20000000</td>\n",
       "      <td>1977-11-16</td>\n",
       "      <td>303788635</td>\n",
       "      <td>52</td>\n",
       "      <td>7.2</td>\n",
       "    </tr>\n",
       "    <tr>\n",
       "      <th>23</th>\n",
       "      <td>The Color Purple</td>\n",
       "      <td>15000000</td>\n",
       "      <td>1985-12-18</td>\n",
       "      <td>146292009</td>\n",
       "      <td>17</td>\n",
       "      <td>7.7</td>\n",
       "    </tr>\n",
       "    <tr>\n",
       "      <th>24</th>\n",
       "      <td>Jaws</td>\n",
       "      <td>7000000</td>\n",
       "      <td>1975-06-18</td>\n",
       "      <td>470654000</td>\n",
       "      <td>50</td>\n",
       "      <td>7.5</td>\n",
       "    </tr>\n",
       "    <tr>\n",
       "      <th>25</th>\n",
       "      <td>E.T. the Extra-Terrestrial</td>\n",
       "      <td>10500000</td>\n",
       "      <td>1982-04-03</td>\n",
       "      <td>792910554</td>\n",
       "      <td>56</td>\n",
       "      <td>7.3</td>\n",
       "    </tr>\n",
       "    <tr>\n",
       "      <th>26</th>\n",
       "      <td>Twilight Zone: The Movie</td>\n",
       "      <td>10000000</td>\n",
       "      <td>1983-06-24</td>\n",
       "      <td>29450919</td>\n",
       "      <td>12</td>\n",
       "      <td>6.2</td>\n",
       "    </tr>\n",
       "  </tbody>\n",
       "</table>\n",
       "</div>"
      ],
      "text/plain": [
       "                                                    0          1           2  \\\n",
       "0   Indiana Jones and the Kingdom of the Crystal S...  185000000  2008-05-21   \n",
       "1                                             The BFG  140000000  2016-06-01   \n",
       "2                                   War of the Worlds  132000000  2005-06-28   \n",
       "3                            The Adventures of Tintin  130000000  2011-10-25   \n",
       "4                                     Minority Report  102000000  2002-06-20   \n",
       "5                        A.I. Artificial Intelligence  100000000  2001-06-29   \n",
       "6                       The Lost World: Jurassic Park   73000000  1997-05-23   \n",
       "7                                        The Terminal   60000000  2004-06-17   \n",
       "8                                              Munich   70000000  2005-12-22   \n",
       "9                                                Hook   70000000  1991-12-11   \n",
       "10                                          War Horse   66000000  2011-12-25   \n",
       "11                                Saving Private Ryan   70000000  1998-07-24   \n",
       "12                                            Lincoln   65000000  2012-11-09   \n",
       "13                                      Jurassic Park   63000000  1993-06-11   \n",
       "14                                Catch Me If You Can   52000000  2002-12-25   \n",
       "15                 Indiana Jones and the Last Crusade   48000000  1989-05-24   \n",
       "16                                    Bridge of Spies   40000000  2015-10-15   \n",
       "17                                            Amistad   36000000  1997-12-03   \n",
       "18                                               1941   35000000  1979-12-13   \n",
       "19               Indiana Jones and the Temple of Doom   28000000  1984-05-23   \n",
       "20                                   Schindler's List   22000000  1993-11-29   \n",
       "21                            Raiders of the Lost Ark   18000000  1981-06-12   \n",
       "22                 Close Encounters of the Third Kind   20000000  1977-11-16   \n",
       "23                                   The Color Purple   15000000  1985-12-18   \n",
       "24                                               Jaws    7000000  1975-06-18   \n",
       "25                         E.T. the Extra-Terrestrial   10500000  1982-04-03   \n",
       "26                           Twilight Zone: The Movie   10000000  1983-06-24   \n",
       "\n",
       "            3    4    5  \n",
       "0   786636033   75  5.7  \n",
       "1   183345589   44  6.0  \n",
       "2   591739379   48  6.2  \n",
       "3   371940071   89  6.7  \n",
       "4   358372926   65  7.1  \n",
       "5   235926552   34  6.8  \n",
       "6   229074524    2  6.2  \n",
       "7   219417255   57  7.0  \n",
       "8   130358911   29  6.9  \n",
       "9   300854823   33  6.6  \n",
       "10  177584879   29  7.0  \n",
       "11  481840909   76  7.9  \n",
       "12  275293450   36  6.7  \n",
       "13  920100000   40  7.6  \n",
       "14  352114312   73  7.7  \n",
       "15  474171806   80  7.6  \n",
       "16  165478348   48  7.2  \n",
       "17   74000000    3  6.8  \n",
       "18   31755742   10  5.6  \n",
       "19  333000000   66  7.1  \n",
       "20  321365567  104  8.3  \n",
       "21  389925971   68  7.7  \n",
       "22  303788635   52  7.2  \n",
       "23  146292009   17  7.7  \n",
       "24  470654000   50  7.5  \n",
       "25  792910554   56  7.3  \n",
       "26   29450919   12  6.2  "
      ]
     },
     "execution_count": 88,
     "metadata": {},
     "output_type": "execute_result"
    }
   ],
   "source": [
    "s_data=pd.DataFrame(curr.execute(\"Select title,budget,release_date,revenue,popularity,vote_average from movies join directors on movies.director_id=directors.id where directors.Name=='Steven Spielberg'\"))\n",
    "s_data"
   ]
  },
  {
   "cell_type": "markdown",
   "id": "91d60aaa-f2fc-4d47-889c-060e1b575180",
   "metadata": {},
   "source": [
    "### Observation:\n",
    "Steven Spielberg has directed several high-budget movies. Most of them have good popularity and vote averages around 6 to 7.\n"
   ]
  },
  {
   "cell_type": "markdown",
   "id": "0bc41ca4-31fd-435a-9b06-d592a5dc297c",
   "metadata": {},
   "source": [
    "## Final Conclusion:\n",
    "This project used SQL queries to explore the IMDb dataset and gain insights about movies, directors, ratings, and revenue. Here are the main findings:\n",
    "\n",
    "- **Most Bankable Movies**: Big-budget films like *Pirates of the Caribbean* and *Avengers: Age of Ultron* top the list of most bankable movies.\n",
    "- **Top-Rated Movie**: *Stiff Upper Lips* has the highest vote average, showing exceptional audience ratings.\n",
    "- **Director Performance**: Steven Spielberg directed the most movies and also earned the highest total revenue among all directors.\n",
    "- **Director Movie Details**: Spielberg's films are generally high-budget and have consistent popularity and ratings between 6 and 7.\n",
    "- **Data Overview**: The dataset includes key fields like budget, revenue, popularity, and vote average, which help in analyzing both financial and viewer-based performance.\n",
    "\n",
    "\n",
    "**Overall**, this project shows how SQL can help uncover interesting insights from a movie dataset by answering real-world business and entertainment questions."
   ]
  }
 ],
 "metadata": {
  "kernelspec": {
   "display_name": "Python [conda env:base] *",
   "language": "python",
   "name": "conda-base-py"
  },
  "language_info": {
   "codemirror_mode": {
    "name": "ipython",
    "version": 3
   },
   "file_extension": ".py",
   "mimetype": "text/x-python",
   "name": "python",
   "nbconvert_exporter": "python",
   "pygments_lexer": "ipython3",
   "version": "3.12.7"
  }
 },
 "nbformat": 4,
 "nbformat_minor": 5
}
